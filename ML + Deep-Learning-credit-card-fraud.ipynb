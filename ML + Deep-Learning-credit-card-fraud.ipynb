{
 "cells": [
  {
   "cell_type": "markdown",
   "metadata": {},
   "source": [
    "# Goal\n",
    "* Credit Fraud Detection\n",
    "* Imbalance classification problem\n",
    "* Oversampling with SMOTE\n",
    "* Machine Learning approach\n",
    "* Deep Learning approach"
   ]
  },
  {
   "cell_type": "markdown",
   "metadata": {},
   "source": [
    "## Import necessary libraries"
   ]
  },
  {
   "cell_type": "code",
   "execution_count": 85,
   "metadata": {
    "execution": {
     "iopub.execute_input": "2023-01-30T03:09:55.748051Z",
     "iopub.status.busy": "2023-01-30T03:09:55.747686Z",
     "iopub.status.idle": "2023-01-30T03:09:55.764345Z",
     "shell.execute_reply": "2023-01-30T03:09:55.763370Z",
     "shell.execute_reply.started": "2023-01-30T03:09:55.748017Z"
    }
   },
   "outputs": [],
   "source": [
    "import time\n",
    "import collections\n",
    "import numpy as np \n",
    "import pandas as pd \n",
    "import seaborn as sns\n",
    "import matplotlib.pyplot as plt\n",
    "from sklearn.manifold import TSNE\n",
    "from sklearn.decomposition import PCA, TruncatedSVD\n",
    "import matplotlib.patches as mpatches\n",
    "\n",
    "from sklearn.svm import SVC\n",
    "from sklearn.linear_model import LogisticRegression\n",
    "from sklearn.neighbors import KNeighborsClassifier\n",
    "from sklearn.tree import DecisionTreeClassifier\n",
    "from sklearn.ensemble import RandomForestClassifier\n",
    "\n",
    "import tensorflow as tf\n",
    "from sklearn.model_selection import train_test_split\n",
    "from sklearn.pipeline import make_pipeline\n",
    "from imblearn.pipeline import make_pipeline as imbalanced_make_pipeline\n",
    "from imblearn.over_sampling import SMOTE\n",
    "from imblearn.under_sampling import NearMiss\n",
    "from imblearn.metrics import classification_report_imbalanced\n",
    "from sklearn.metrics import precision_score, recall_score\n",
    "from sklearn.metrics import f1_score, roc_auc_score, accuracy_score\n",
    "from sklearn.metrics import classification_report\n",
    "from collections import Counter\n",
    "from sklearn.model_selection import KFold, StratifiedKFold\n",
    "import warnings\n",
    "warnings.filterwarnings(\"ignore\")\n",
    "%matplotlib inline"
   ]
  },
  {
   "cell_type": "markdown",
   "metadata": {},
   "source": [
    "## Read the dataset"
   ]
  },
  {
   "cell_type": "code",
   "execution_count": 86,
   "metadata": {
    "execution": {
     "iopub.execute_input": "2023-01-30T03:09:55.767573Z",
     "iopub.status.busy": "2023-01-30T03:09:55.767117Z",
     "iopub.status.idle": "2023-01-30T03:09:57.435567Z",
     "shell.execute_reply": "2023-01-30T03:09:57.434280Z",
     "shell.execute_reply.started": "2023-01-30T03:09:55.767538Z"
    }
   },
   "outputs": [
    {
     "data": {
      "text/html": [
       "<div>\n",
       "<style scoped>\n",
       "    .dataframe tbody tr th:only-of-type {\n",
       "        vertical-align: middle;\n",
       "    }\n",
       "\n",
       "    .dataframe tbody tr th {\n",
       "        vertical-align: top;\n",
       "    }\n",
       "\n",
       "    .dataframe thead th {\n",
       "        text-align: right;\n",
       "    }\n",
       "</style>\n",
       "<table border=\"1\" class=\"dataframe\">\n",
       "  <thead>\n",
       "    <tr style=\"text-align: right;\">\n",
       "      <th></th>\n",
       "      <th>Time</th>\n",
       "      <th>V1</th>\n",
       "      <th>V2</th>\n",
       "      <th>V3</th>\n",
       "      <th>V4</th>\n",
       "      <th>V5</th>\n",
       "      <th>V6</th>\n",
       "      <th>V7</th>\n",
       "      <th>V8</th>\n",
       "      <th>V9</th>\n",
       "      <th>...</th>\n",
       "      <th>V21</th>\n",
       "      <th>V22</th>\n",
       "      <th>V23</th>\n",
       "      <th>V24</th>\n",
       "      <th>V25</th>\n",
       "      <th>V26</th>\n",
       "      <th>V27</th>\n",
       "      <th>V28</th>\n",
       "      <th>Amount</th>\n",
       "      <th>Class</th>\n",
       "    </tr>\n",
       "  </thead>\n",
       "  <tbody>\n",
       "    <tr>\n",
       "      <th>0</th>\n",
       "      <td>0.0</td>\n",
       "      <td>-1.359807</td>\n",
       "      <td>-0.072781</td>\n",
       "      <td>2.536347</td>\n",
       "      <td>1.378155</td>\n",
       "      <td>-0.338321</td>\n",
       "      <td>0.462388</td>\n",
       "      <td>0.239599</td>\n",
       "      <td>0.098698</td>\n",
       "      <td>0.363787</td>\n",
       "      <td>...</td>\n",
       "      <td>-0.018307</td>\n",
       "      <td>0.277838</td>\n",
       "      <td>-0.110474</td>\n",
       "      <td>0.066928</td>\n",
       "      <td>0.128539</td>\n",
       "      <td>-0.189115</td>\n",
       "      <td>0.133558</td>\n",
       "      <td>-0.021053</td>\n",
       "      <td>149.62</td>\n",
       "      <td>0</td>\n",
       "    </tr>\n",
       "    <tr>\n",
       "      <th>1</th>\n",
       "      <td>0.0</td>\n",
       "      <td>1.191857</td>\n",
       "      <td>0.266151</td>\n",
       "      <td>0.166480</td>\n",
       "      <td>0.448154</td>\n",
       "      <td>0.060018</td>\n",
       "      <td>-0.082361</td>\n",
       "      <td>-0.078803</td>\n",
       "      <td>0.085102</td>\n",
       "      <td>-0.255425</td>\n",
       "      <td>...</td>\n",
       "      <td>-0.225775</td>\n",
       "      <td>-0.638672</td>\n",
       "      <td>0.101288</td>\n",
       "      <td>-0.339846</td>\n",
       "      <td>0.167170</td>\n",
       "      <td>0.125895</td>\n",
       "      <td>-0.008983</td>\n",
       "      <td>0.014724</td>\n",
       "      <td>2.69</td>\n",
       "      <td>0</td>\n",
       "    </tr>\n",
       "    <tr>\n",
       "      <th>2</th>\n",
       "      <td>1.0</td>\n",
       "      <td>-1.358354</td>\n",
       "      <td>-1.340163</td>\n",
       "      <td>1.773209</td>\n",
       "      <td>0.379780</td>\n",
       "      <td>-0.503198</td>\n",
       "      <td>1.800499</td>\n",
       "      <td>0.791461</td>\n",
       "      <td>0.247676</td>\n",
       "      <td>-1.514654</td>\n",
       "      <td>...</td>\n",
       "      <td>0.247998</td>\n",
       "      <td>0.771679</td>\n",
       "      <td>0.909412</td>\n",
       "      <td>-0.689281</td>\n",
       "      <td>-0.327642</td>\n",
       "      <td>-0.139097</td>\n",
       "      <td>-0.055353</td>\n",
       "      <td>-0.059752</td>\n",
       "      <td>378.66</td>\n",
       "      <td>0</td>\n",
       "    </tr>\n",
       "    <tr>\n",
       "      <th>3</th>\n",
       "      <td>1.0</td>\n",
       "      <td>-0.966272</td>\n",
       "      <td>-0.185226</td>\n",
       "      <td>1.792993</td>\n",
       "      <td>-0.863291</td>\n",
       "      <td>-0.010309</td>\n",
       "      <td>1.247203</td>\n",
       "      <td>0.237609</td>\n",
       "      <td>0.377436</td>\n",
       "      <td>-1.387024</td>\n",
       "      <td>...</td>\n",
       "      <td>-0.108300</td>\n",
       "      <td>0.005274</td>\n",
       "      <td>-0.190321</td>\n",
       "      <td>-1.175575</td>\n",
       "      <td>0.647376</td>\n",
       "      <td>-0.221929</td>\n",
       "      <td>0.062723</td>\n",
       "      <td>0.061458</td>\n",
       "      <td>123.50</td>\n",
       "      <td>0</td>\n",
       "    </tr>\n",
       "    <tr>\n",
       "      <th>4</th>\n",
       "      <td>2.0</td>\n",
       "      <td>-1.158233</td>\n",
       "      <td>0.877737</td>\n",
       "      <td>1.548718</td>\n",
       "      <td>0.403034</td>\n",
       "      <td>-0.407193</td>\n",
       "      <td>0.095921</td>\n",
       "      <td>0.592941</td>\n",
       "      <td>-0.270533</td>\n",
       "      <td>0.817739</td>\n",
       "      <td>...</td>\n",
       "      <td>-0.009431</td>\n",
       "      <td>0.798278</td>\n",
       "      <td>-0.137458</td>\n",
       "      <td>0.141267</td>\n",
       "      <td>-0.206010</td>\n",
       "      <td>0.502292</td>\n",
       "      <td>0.219422</td>\n",
       "      <td>0.215153</td>\n",
       "      <td>69.99</td>\n",
       "      <td>0</td>\n",
       "    </tr>\n",
       "  </tbody>\n",
       "</table>\n",
       "<p>5 rows × 31 columns</p>\n",
       "</div>"
      ],
      "text/plain": [
       "   Time        V1        V2        V3        V4        V5        V6        V7  \\\n",
       "0   0.0 -1.359807 -0.072781  2.536347  1.378155 -0.338321  0.462388  0.239599   \n",
       "1   0.0  1.191857  0.266151  0.166480  0.448154  0.060018 -0.082361 -0.078803   \n",
       "2   1.0 -1.358354 -1.340163  1.773209  0.379780 -0.503198  1.800499  0.791461   \n",
       "3   1.0 -0.966272 -0.185226  1.792993 -0.863291 -0.010309  1.247203  0.237609   \n",
       "4   2.0 -1.158233  0.877737  1.548718  0.403034 -0.407193  0.095921  0.592941   \n",
       "\n",
       "         V8        V9  ...       V21       V22       V23       V24       V25  \\\n",
       "0  0.098698  0.363787  ... -0.018307  0.277838 -0.110474  0.066928  0.128539   \n",
       "1  0.085102 -0.255425  ... -0.225775 -0.638672  0.101288 -0.339846  0.167170   \n",
       "2  0.247676 -1.514654  ...  0.247998  0.771679  0.909412 -0.689281 -0.327642   \n",
       "3  0.377436 -1.387024  ... -0.108300  0.005274 -0.190321 -1.175575  0.647376   \n",
       "4 -0.270533  0.817739  ... -0.009431  0.798278 -0.137458  0.141267 -0.206010   \n",
       "\n",
       "        V26       V27       V28  Amount  Class  \n",
       "0 -0.189115  0.133558 -0.021053  149.62      0  \n",
       "1  0.125895 -0.008983  0.014724    2.69      0  \n",
       "2 -0.139097 -0.055353 -0.059752  378.66      0  \n",
       "3 -0.221929  0.062723  0.061458  123.50      0  \n",
       "4  0.502292  0.219422  0.215153   69.99      0  \n",
       "\n",
       "[5 rows x 31 columns]"
      ]
     },
     "execution_count": 86,
     "metadata": {},
     "output_type": "execute_result"
    }
   ],
   "source": [
    "df = pd.read_csv('/kaggle/input/creditcardfraud/creditcard.csv')\n",
    "df.head()"
   ]
  },
  {
   "cell_type": "markdown",
   "metadata": {},
   "source": [
    "## Exploratory Data Aanalysis (EDA)"
   ]
  },
  {
   "cell_type": "code",
   "execution_count": 87,
   "metadata": {
    "execution": {
     "iopub.execute_input": "2023-01-30T03:09:57.438150Z",
     "iopub.status.busy": "2023-01-30T03:09:57.437612Z",
     "iopub.status.idle": "2023-01-30T03:09:57.444920Z",
     "shell.execute_reply": "2023-01-30T03:09:57.443295Z",
     "shell.execute_reply.started": "2023-01-30T03:09:57.438104Z"
    }
   },
   "outputs": [
    {
     "name": "stdout",
     "output_type": "stream",
     "text": [
      "(284807, 31)\n",
      "10% of total data: 56961\n"
     ]
    }
   ],
   "source": [
    "print(df.shape)\n",
    "\"\"\"\n",
    "80/20 can be a good train test ratio.\n",
    "Total number of samples = 284807. It's a lot of data.\n",
    "So 20% will be 56k which is a good amount of data for the test set.\n",
    "\"\"\"\n",
    "print(\"10% of total data:\", int(df.shape[0]*.2)) "
   ]
  },
  {
   "cell_type": "code",
   "execution_count": 88,
   "metadata": {
    "execution": {
     "iopub.execute_input": "2023-01-30T03:09:57.449074Z",
     "iopub.status.busy": "2023-01-30T03:09:57.448437Z",
     "iopub.status.idle": "2023-01-30T03:09:57.474589Z",
     "shell.execute_reply": "2023-01-30T03:09:57.473570Z",
     "shell.execute_reply.started": "2023-01-30T03:09:57.449036Z"
    }
   },
   "outputs": [
    {
     "name": "stdout",
     "output_type": "stream",
     "text": [
      "0\n"
     ]
    }
   ],
   "source": [
    "\"\"\"\n",
    "Check null values.\n",
    "There is no null values in this dataset.\n",
    "We are good to go for further steps.\n",
    "\"\"\"\n",
    "print(sum(df.isnull().sum()))"
   ]
  },
  {
   "cell_type": "code",
   "execution_count": 89,
   "metadata": {
    "execution": {
     "iopub.execute_input": "2023-01-30T03:09:57.476489Z",
     "iopub.status.busy": "2023-01-30T03:09:57.476031Z",
     "iopub.status.idle": "2023-01-30T03:09:57.507448Z",
     "shell.execute_reply": "2023-01-30T03:09:57.506382Z",
     "shell.execute_reply.started": "2023-01-30T03:09:57.476455Z"
    }
   },
   "outputs": [
    {
     "name": "stdout",
     "output_type": "stream",
     "text": [
      "<class 'pandas.core.frame.DataFrame'>\n",
      "RangeIndex: 284807 entries, 0 to 284806\n",
      "Data columns (total 31 columns):\n",
      " #   Column  Non-Null Count   Dtype  \n",
      "---  ------  --------------   -----  \n",
      " 0   Time    284807 non-null  float64\n",
      " 1   V1      284807 non-null  float64\n",
      " 2   V2      284807 non-null  float64\n",
      " 3   V3      284807 non-null  float64\n",
      " 4   V4      284807 non-null  float64\n",
      " 5   V5      284807 non-null  float64\n",
      " 6   V6      284807 non-null  float64\n",
      " 7   V7      284807 non-null  float64\n",
      " 8   V8      284807 non-null  float64\n",
      " 9   V9      284807 non-null  float64\n",
      " 10  V10     284807 non-null  float64\n",
      " 11  V11     284807 non-null  float64\n",
      " 12  V12     284807 non-null  float64\n",
      " 13  V13     284807 non-null  float64\n",
      " 14  V14     284807 non-null  float64\n",
      " 15  V15     284807 non-null  float64\n",
      " 16  V16     284807 non-null  float64\n",
      " 17  V17     284807 non-null  float64\n",
      " 18  V18     284807 non-null  float64\n",
      " 19  V19     284807 non-null  float64\n",
      " 20  V20     284807 non-null  float64\n",
      " 21  V21     284807 non-null  float64\n",
      " 22  V22     284807 non-null  float64\n",
      " 23  V23     284807 non-null  float64\n",
      " 24  V24     284807 non-null  float64\n",
      " 25  V25     284807 non-null  float64\n",
      " 26  V26     284807 non-null  float64\n",
      " 27  V27     284807 non-null  float64\n",
      " 28  V28     284807 non-null  float64\n",
      " 29  Amount  284807 non-null  float64\n",
      " 30  Class   284807 non-null  int64  \n",
      "dtypes: float64(30), int64(1)\n",
      "memory usage: 67.4 MB\n"
     ]
    }
   ],
   "source": [
    "df.info()"
   ]
  },
  {
   "cell_type": "code",
   "execution_count": 90,
   "metadata": {
    "execution": {
     "iopub.execute_input": "2023-01-30T03:09:57.509465Z",
     "iopub.status.busy": "2023-01-30T03:09:57.509092Z",
     "iopub.status.idle": "2023-01-30T03:09:57.518246Z",
     "shell.execute_reply": "2023-01-30T03:09:57.517261Z",
     "shell.execute_reply.started": "2023-01-30T03:09:57.509430Z"
    }
   },
   "outputs": [
    {
     "name": "stdout",
     "output_type": "stream",
     "text": [
      "0    0.998273\n",
      "1    0.001727\n",
      "Name: Class, dtype: float64\n"
     ]
    }
   ],
   "source": [
    "\"\"\"\n",
    "See the number of each class.\n",
    "99.83% data poitns are in one class\n",
    "00.17% data points are in another class.\n",
    "We have a clear class imbalance here.\n",
    "\"\"\"\n",
    "print(df['Class'].value_counts(normalize=True))"
   ]
  },
  {
   "cell_type": "code",
   "execution_count": 91,
   "metadata": {
    "execution": {
     "iopub.execute_input": "2023-01-30T03:09:57.520777Z",
     "iopub.status.busy": "2023-01-30T03:09:57.520029Z",
     "iopub.status.idle": "2023-01-30T03:09:57.530753Z",
     "shell.execute_reply": "2023-01-30T03:09:57.529628Z",
     "shell.execute_reply.started": "2023-01-30T03:09:57.520737Z"
    }
   },
   "outputs": [
    {
     "name": "stdout",
     "output_type": "stream",
     "text": [
      "Index(['Time', 'V1', 'V2', 'V3', 'V4', 'V5', 'V6', 'V7', 'V8', 'V9', 'V10',\n",
      "       'V11', 'V12', 'V13', 'V14', 'V15', 'V16', 'V17', 'V18', 'V19', 'V20',\n",
      "       'V21', 'V22', 'V23', 'V24', 'V25', 'V26', 'V27', 'V28', 'Amount',\n",
      "       'Class'],\n",
      "      dtype='object')\n"
     ]
    }
   ],
   "source": [
    "print(df.columns)"
   ]
  },
  {
   "cell_type": "code",
   "execution_count": 92,
   "metadata": {
    "execution": {
     "iopub.execute_input": "2023-01-30T03:09:57.533121Z",
     "iopub.status.busy": "2023-01-30T03:09:57.532715Z",
     "iopub.status.idle": "2023-01-30T03:09:57.724310Z",
     "shell.execute_reply": "2023-01-30T03:09:57.723182Z",
     "shell.execute_reply.started": "2023-01-30T03:09:57.533085Z"
    }
   },
   "outputs": [
    {
     "data": {
      "image/png": "[encoded data removed]",
      "text/plain": [
       "<Figure size 432x288 with 1 Axes>"
      ]
     },
     "metadata": {
      "needs_background": "light"
     },
     "output_type": "display_data"
    }
   ],
   "source": [
    "## Count plot of the target coulumn.\n",
    "plt.figure(figsize=(6,4))\n",
    "sns.countplot(x='Class', data=df)\n",
    "plt.title(\"Class Distribution\\n(0>>Not Fraud & 1>>Fraud)\")\n",
    "plt.show()"
   ]
  },
  {
   "cell_type": "code",
   "execution_count": 93,
   "metadata": {
    "execution": {
     "iopub.execute_input": "2023-01-30T03:09:57.729490Z",
     "iopub.status.busy": "2023-01-30T03:09:57.728958Z",
     "iopub.status.idle": "2023-01-30T03:10:00.502463Z",
     "shell.execute_reply": "2023-01-30T03:10:00.501528Z",
     "shell.execute_reply.started": "2023-01-30T03:09:57.729461Z"
    }
   },
   "outputs": [
    {
     "data": {
      "image/png": "[encoded data removed]",
      "text/plain": [
       "<Figure size 1152x288 with 2 Axes>"
      ]
     },
     "metadata": {
      "needs_background": "light"
     },
     "output_type": "display_data"
    }
   ],
   "source": [
    "fig, ax = plt.subplots(1, 2,figsize=(16,4))\n",
    "sns.distplot(df['Amount'], ax=ax[0])\n",
    "sns.distplot(df['Time'], ax=ax[1])\n",
    "ax[0].set_title(\"Distribution of Transaction Amount\")\n",
    "ax[1].set_title(\"Distribution of Transaction Time\")\n",
    "plt.show()"
   ]
  },
  {
   "cell_type": "markdown",
   "metadata": {},
   "source": [
    "## Train test split"
   ]
  },
  {
   "cell_type": "code",
   "execution_count": 94,
   "metadata": {
    "execution": {
     "iopub.execute_input": "2023-01-30T03:10:00.510095Z",
     "iopub.status.busy": "2023-01-30T03:10:00.507203Z",
     "iopub.status.idle": "2023-01-30T03:10:01.611157Z",
     "shell.execute_reply": "2023-01-30T03:10:01.610187Z",
     "shell.execute_reply.started": "2023-01-30T03:10:00.510055Z"
    }
   },
   "outputs": [
    {
     "data": {
      "image/png": "[encoded data removed]",
      "text/plain": [
       "<Figure size 432x288 with 1 Axes>"
      ]
     },
     "metadata": {
      "needs_background": "light"
     },
     "output_type": "display_data"
    },
    {
     "data": {
      "image/png": "[encoded data removed]",
      "text/plain": [
       "<Figure size 432x288 with 1 Axes>"
      ]
     },
     "metadata": {
      "needs_background": "light"
     },
     "output_type": "display_data"
    }
   ],
   "source": [
    "X = df.drop('Class', axis=1)\n",
    "y = df['Class']\n",
    "\n",
    "sns.countplot(y=y, data=df, palette=\"mako_r\")\n",
    "plt.title(\"Result before oversampling\")\n",
    "plt.ylabel('Class')\n",
    "plt.xlabel('Total')\n",
    "plt.show()\n",
    "\n",
    "from imblearn.over_sampling import SMOTE\n",
    "X, y = SMOTE().fit_resample(X, y)\n",
    "\n",
    "sns.countplot(y=y, data=df)\n",
    "plt.title(\"Result after oversampling\")\n",
    "plt.ylabel('Drug Type')\n",
    "plt.xlabel('Total')\n",
    "plt.show()"
   ]
  },
  {
   "cell_type": "code",
   "execution_count": 95,
   "metadata": {
    "execution": {
     "iopub.execute_input": "2023-01-30T03:10:01.613216Z",
     "iopub.status.busy": "2023-01-30T03:10:01.612839Z",
     "iopub.status.idle": "2023-01-30T03:10:01.973406Z",
     "shell.execute_reply": "2023-01-30T03:10:01.972428Z",
     "shell.execute_reply.started": "2023-01-30T03:10:01.613178Z"
    }
   },
   "outputs": [],
   "source": [
    "X_train, X_test, y_train, y_test = train_test_split(X, y, test_size=0.2, \n",
    "                                                    stratify=y,random_state=42)"
   ]
  },
  {
   "cell_type": "markdown",
   "metadata": {},
   "source": [
    "## Scaling"
   ]
  },
  {
   "cell_type": "code",
   "execution_count": 96,
   "metadata": {
    "execution": {
     "iopub.execute_input": "2023-01-30T03:10:01.976219Z",
     "iopub.status.busy": "2023-01-30T03:10:01.974989Z",
     "iopub.status.idle": "2023-01-30T03:10:02.114477Z",
     "shell.execute_reply": "2023-01-30T03:10:02.113489Z",
     "shell.execute_reply.started": "2023-01-30T03:10:01.976175Z"
    }
   },
   "outputs": [],
   "source": [
    "from sklearn.preprocessing import MinMaxScaler\n",
    "scaler = MinMaxScaler()\n",
    "scaler.fit(X_train)\n",
    "X_train = scaler.transform(X_train)\n",
    "X_test = scaler.transform(X_test)"
   ]
  },
  {
   "cell_type": "markdown",
   "metadata": {},
   "source": [
    "# 1. Machine Learning Approach\n",
    "## Modeling & performance evaluation"
   ]
  },
  {
   "cell_type": "code",
   "execution_count": 97,
   "metadata": {
    "execution": {
     "iopub.execute_input": "2023-01-30T03:10:02.116668Z",
     "iopub.status.busy": "2023-01-30T03:10:02.116289Z",
     "iopub.status.idle": "2023-01-30T03:10:02.122615Z",
     "shell.execute_reply": "2023-01-30T03:10:02.121589Z",
     "shell.execute_reply.started": "2023-01-30T03:10:02.116631Z"
    }
   },
   "outputs": [],
   "source": [
    "def model(clf):\n",
    "    clf.fit(X_train,y_train)\n",
    "    y_pred = clf.predict(X_test)\n",
    "    return y_pred\n",
    "\n",
    "def performance(y_true, y_pred):\n",
    "    print(\"======================================================\")\n",
    "    print(classification_report(y_test,y_pred))\n",
    "    print(\"======================================================\")\n",
    "    print(\"Overall accuracy = \",accuracy_score(y_test,y_pred))"
   ]
  },
  {
   "cell_type": "markdown",
   "metadata": {},
   "source": [
    "## SVM model\n",
    "<figure>\n",
    "<img src = \"https://raw.githubusercontent.com/shuvo14051/Share-images/master/SVM_imbalance.jpg\" height=400 width=400>\n",
    "  <figcaption>Result of SVM without balancing the dataset</figcaption>\n",
    "</figure>"
   ]
  },
  {
   "cell_type": "code",
   "execution_count": 98,
   "metadata": {
    "execution": {
     "iopub.execute_input": "2023-01-30T03:10:02.124722Z",
     "iopub.status.busy": "2023-01-30T03:10:02.124126Z",
     "iopub.status.idle": "2023-01-30T03:38:39.487402Z",
     "shell.execute_reply": "2023-01-30T03:38:39.486308Z",
     "shell.execute_reply.started": "2023-01-30T03:10:02.124684Z"
    }
   },
   "outputs": [
    {
     "name": "stdout",
     "output_type": "stream",
     "text": [
      "======================================================\n",
      "              precision    recall  f1-score   support\n",
      "\n",
      "           0       0.98      0.99      0.99     56863\n",
      "           1       0.99      0.98      0.99     56863\n",
      "\n",
      "    accuracy                           0.99    113726\n",
      "   macro avg       0.99      0.99      0.99    113726\n",
      "weighted avg       0.99      0.99      0.99    113726\n",
      "\n",
      "======================================================\n",
      "Overall accuracy =  0.9864498883280868\n"
     ]
    }
   ],
   "source": [
    "y_pred = model(SVC())\n",
    "performance(y_test,y_pred)"
   ]
  },
  {
   "cell_type": "markdown",
   "metadata": {},
   "source": [
    "## Logistic Regression\n",
    "<figure>\n",
    "<img src = \"https://raw.githubusercontent.com/shuvo14051/Share-images/master/LogiticRegression_imbalance.jpg\" height=400 width=400>\n",
    "  <figcaption>Result of LogisticRegression without balancing the dataset</figcaption>\n",
    "</figure>"
   ]
  },
  {
   "cell_type": "code",
   "execution_count": 99,
   "metadata": {
    "execution": {
     "iopub.execute_input": "2023-01-30T03:38:39.489981Z",
     "iopub.status.busy": "2023-01-30T03:38:39.489307Z",
     "iopub.status.idle": "2023-01-30T03:38:47.693449Z",
     "shell.execute_reply": "2023-01-30T03:38:47.692319Z",
     "shell.execute_reply.started": "2023-01-30T03:38:39.489942Z"
    }
   },
   "outputs": [
    {
     "name": "stdout",
     "output_type": "stream",
     "text": [
      "======================================================\n",
      "              precision    recall  f1-score   support\n",
      "\n",
      "           0       0.96      0.99      0.98     56863\n",
      "           1       0.99      0.96      0.98     56863\n",
      "\n",
      "    accuracy                           0.98    113726\n",
      "   macro avg       0.98      0.98      0.98    113726\n",
      "weighted avg       0.98      0.98      0.98    113726\n",
      "\n",
      "======================================================\n",
      "Overall accuracy =  0.9768302762780718\n"
     ]
    }
   ],
   "source": [
    "y_pred = model(LogisticRegression())\n",
    "performance(y_test,y_pred)"
   ]
  },
  {
   "cell_type": "markdown",
   "metadata": {},
   "source": [
    "## RandomForest classifier\n",
    "<figure>\n",
    "<img src = \"https://raw.githubusercontent.com/shuvo14051/Share-images/master/RandomForest_imbalance.jpg\" height=400 width=400>\n",
    "  <figcaption>Result of RandomForest without balancing the dataset</figcaption>\n",
    "</figure>\n"
   ]
  },
  {
   "cell_type": "code",
   "execution_count": 100,
   "metadata": {
    "execution": {
     "iopub.execute_input": "2023-01-30T03:38:47.695942Z",
     "iopub.status.busy": "2023-01-30T03:38:47.695263Z",
     "iopub.status.idle": "2023-01-30T03:44:52.766367Z",
     "shell.execute_reply": "2023-01-30T03:44:52.765317Z",
     "shell.execute_reply.started": "2023-01-30T03:38:47.695892Z"
    }
   },
   "outputs": [
    {
     "name": "stdout",
     "output_type": "stream",
     "text": [
      "======================================================\n",
      "              precision    recall  f1-score   support\n",
      "\n",
      "           0       1.00      1.00      1.00     56863\n",
      "           1       1.00      1.00      1.00     56863\n",
      "\n",
      "    accuracy                           1.00    113726\n",
      "   macro avg       1.00      1.00      1.00    113726\n",
      "weighted avg       1.00      1.00      1.00    113726\n",
      "\n",
      "======================================================\n",
      "Overall accuracy =  0.9998417248474404\n"
     ]
    }
   ],
   "source": [
    "y_pred = model(RandomForestClassifier())\n",
    "performance(y_test,y_pred)"
   ]
  },
  {
   "cell_type": "markdown",
   "metadata": {},
   "source": [
    "## KNN\n",
    "<figure>\n",
    "<img src = \"https://raw.githubusercontent.com/shuvo14051/Share-images/master/KNN_imbalance.jpg\" height=400 width=400>\n",
    "  <figcaption>Result of KNN without balancing the dataset</figcaption>\n",
    "</figure>"
   ]
  },
  {
   "cell_type": "code",
   "execution_count": 101,
   "metadata": {
    "execution": {
     "iopub.execute_input": "2023-01-30T03:44:52.768385Z",
     "iopub.status.busy": "2023-01-30T03:44:52.767998Z",
     "iopub.status.idle": "2023-01-30T04:00:56.993799Z",
     "shell.execute_reply": "2023-01-30T04:00:56.992699Z",
     "shell.execute_reply.started": "2023-01-30T03:44:52.768348Z"
    }
   },
   "outputs": [
    {
     "name": "stdout",
     "output_type": "stream",
     "text": [
      "======================================================\n",
      "              precision    recall  f1-score   support\n",
      "\n",
      "           0       1.00      1.00      1.00     56863\n",
      "           1       1.00      1.00      1.00     56863\n",
      "\n",
      "    accuracy                           1.00    113726\n",
      "   macro avg       1.00      1.00      1.00    113726\n",
      "weighted avg       1.00      1.00      1.00    113726\n",
      "\n",
      "======================================================\n",
      "Overall accuracy =  0.9993668993897613\n"
     ]
    }
   ],
   "source": [
    "y_pred = model(KNeighborsClassifier())\n",
    "performance(y_test,y_pred)"
   ]
  },
  {
   "cell_type": "markdown",
   "metadata": {},
   "source": [
    "# 2. Deep Learning Approach"
   ]
  },
  {
   "cell_type": "code",
   "execution_count": 116,
   "metadata": {
    "execution": {
     "iopub.execute_input": "2023-01-30T04:47:42.138037Z",
     "iopub.status.busy": "2023-01-30T04:47:42.137334Z",
     "iopub.status.idle": "2023-01-30T04:47:42.145908Z",
     "shell.execute_reply": "2023-01-30T04:47:42.144878Z",
     "shell.execute_reply.started": "2023-01-30T04:47:42.138000Z"
    }
   },
   "outputs": [],
   "source": [
    "import tensorflow as tf\n",
    "from tensorflow.keras.models import Sequential\n",
    "from tensorflow.keras.layers import Dense,Dropout, BatchNormalization\n",
    "from tensorflow.keras.callbacks import EarlyStopping"
   ]
  },
  {
   "cell_type": "code",
   "execution_count": 117,
   "metadata": {
    "execution": {
     "iopub.execute_input": "2023-01-30T04:47:42.330899Z",
     "iopub.status.busy": "2023-01-30T04:47:42.330211Z",
     "iopub.status.idle": "2023-01-30T04:47:42.415755Z",
     "shell.execute_reply": "2023-01-30T04:47:42.414844Z",
     "shell.execute_reply.started": "2023-01-30T04:47:42.330854Z"
    }
   },
   "outputs": [],
   "source": [
    "n_cols = X_train.shape[1]\n",
    "model = Sequential()\n",
    "model.add(Dense(50, activation = 'relu', input_shape=(n_cols,)))\n",
    "model.add(BatchNormalization())\n",
    "model.add(Dropout(.2))\n",
    "\n",
    "model.add(Dense(25, activation = 'relu',))\n",
    "model.add(BatchNormalization())\n",
    "model.add(Dropout(.2))\n",
    "\n",
    "model.add(Dense(11, activation = 'relu',))\n",
    "model.add(BatchNormalization())\n",
    "model.add(Dropout(.2))\n",
    "\n",
    "model.add(Dense(1, activation='sigmoid'))\n",
    "\n",
    "model.compile(loss='binary_crossentropy', optimizer='adam', metrics=['accuracy'])"
   ]
  },
  {
   "cell_type": "code",
   "execution_count": 118,
   "metadata": {
    "execution": {
     "iopub.execute_input": "2023-01-30T04:47:42.559756Z",
     "iopub.status.busy": "2023-01-30T04:47:42.559477Z",
     "iopub.status.idle": "2023-01-30T04:47:42.564560Z",
     "shell.execute_reply": "2023-01-30T04:47:42.563543Z",
     "shell.execute_reply.started": "2023-01-30T04:47:42.559731Z"
    }
   },
   "outputs": [],
   "source": [
    "early_stop = EarlyStopping(monitor='val_loss', patience=2, mode='min')\n"
   ]
  },
  {
   "cell_type": "code",
   "execution_count": 119,
   "metadata": {
    "execution": {
     "iopub.execute_input": "2023-01-30T04:47:42.693849Z",
     "iopub.status.busy": "2023-01-30T04:47:42.693584Z",
     "iopub.status.idle": "2023-01-30T05:02:01.753708Z",
     "shell.execute_reply": "2023-01-30T05:02:01.752721Z",
     "shell.execute_reply.started": "2023-01-30T04:47:42.693824Z"
    }
   },
   "outputs": [
    {
     "name": "stdout",
     "output_type": "stream",
     "text": [
      "Epoch 1/50\n",
      "3554/3554 [==============================] - 19s 5ms/step - loss: 0.1015 - accuracy: 0.9641 - val_loss: 0.0522 - val_accuracy: 0.9815\n",
      "Epoch 2/50\n",
      "3554/3554 [==============================] - 16s 5ms/step - loss: 0.0614 - accuracy: 0.9787 - val_loss: 0.0649 - val_accuracy: 0.9787\n",
      "Epoch 3/50\n",
      "3554/3554 [==============================] - 17s 5ms/step - loss: 0.0534 - accuracy: 0.9814 - val_loss: 0.0556 - val_accuracy: 0.9800\n",
      "Epoch 4/50\n",
      "3554/3554 [==============================] - 17s 5ms/step - loss: 0.0483 - accuracy: 0.9832 - val_loss: 0.1123 - val_accuracy: 0.9490\n",
      "Epoch 5/50\n",
      "3554/3554 [==============================] - 16s 5ms/step - loss: 0.0476 - accuracy: 0.9834 - val_loss: 0.0564 - val_accuracy: 0.9791\n",
      "Epoch 6/50\n",
      "3554/3554 [==============================] - 18s 5ms/step - loss: 0.0446 - accuracy: 0.9843 - val_loss: 0.1769 - val_accuracy: 0.9642\n",
      "Epoch 7/50\n",
      "3554/3554 [==============================] - 18s 5ms/step - loss: 0.0428 - accuracy: 0.9852 - val_loss: 0.0356 - val_accuracy: 0.9862\n",
      "Epoch 8/50\n",
      "3554/3554 [==============================] - 17s 5ms/step - loss: 0.0409 - accuracy: 0.9856 - val_loss: 0.0818 - val_accuracy: 0.9691\n",
      "Epoch 9/50\n",
      "3554/3554 [==============================] - 16s 5ms/step - loss: 0.0405 - accuracy: 0.9857 - val_loss: 0.0497 - val_accuracy: 0.9816\n",
      "Epoch 10/50\n",
      "3554/3554 [==============================] - 18s 5ms/step - loss: 0.0398 - accuracy: 0.9860 - val_loss: 0.0499 - val_accuracy: 0.9805\n",
      "Epoch 11/50\n",
      "3554/3554 [==============================] - 17s 5ms/step - loss: 0.0391 - accuracy: 0.9863 - val_loss: 0.0359 - val_accuracy: 0.9859\n",
      "Epoch 12/50\n",
      "3554/3554 [==============================] - 18s 5ms/step - loss: 0.0409 - accuracy: 0.9853 - val_loss: 0.0950 - val_accuracy: 0.9733\n",
      "Epoch 13/50\n",
      "3554/3554 [==============================] - 16s 5ms/step - loss: 0.0407 - accuracy: 0.9856 - val_loss: 0.0656 - val_accuracy: 0.9794\n",
      "Epoch 14/50\n",
      "3554/3554 [==============================] - 18s 5ms/step - loss: 0.0401 - accuracy: 0.9860 - val_loss: 0.0383 - val_accuracy: 0.9859\n",
      "Epoch 15/50\n",
      "3554/3554 [==============================] - 17s 5ms/step - loss: 0.0389 - accuracy: 0.9862 - val_loss: 0.1059 - val_accuracy: 0.9710\n",
      "Epoch 16/50\n",
      "3554/3554 [==============================] - 18s 5ms/step - loss: 0.0385 - accuracy: 0.9865 - val_loss: 0.0724 - val_accuracy: 0.9792\n",
      "Epoch 17/50\n",
      "3554/3554 [==============================] - 18s 5ms/step - loss: 0.0379 - accuracy: 0.9866 - val_loss: 0.0298 - val_accuracy: 0.9893\n",
      "Epoch 18/50\n",
      "3554/3554 [==============================] - 16s 5ms/step - loss: 0.0388 - accuracy: 0.9863 - val_loss: 0.0499 - val_accuracy: 0.9820\n",
      "Epoch 19/50\n",
      "3554/3554 [==============================] - 17s 5ms/step - loss: 0.0381 - accuracy: 0.9866 - val_loss: 0.0410 - val_accuracy: 0.9856\n",
      "Epoch 20/50\n",
      "3554/3554 [==============================] - 18s 5ms/step - loss: 0.0376 - accuracy: 0.9867 - val_loss: 0.0297 - val_accuracy: 0.9898\n",
      "Epoch 21/50\n",
      "3554/3554 [==============================] - 17s 5ms/step - loss: 0.0367 - accuracy: 0.9869 - val_loss: 0.0654 - val_accuracy: 0.9756\n",
      "Epoch 22/50\n",
      "3554/3554 [==============================] - 16s 5ms/step - loss: 0.0369 - accuracy: 0.9870 - val_loss: 0.0414 - val_accuracy: 0.9830\n",
      "Epoch 23/50\n",
      "3554/3554 [==============================] - 18s 5ms/step - loss: 0.0367 - accuracy: 0.9869 - val_loss: 0.0353 - val_accuracy: 0.9871\n",
      "Epoch 24/50\n",
      "3554/3554 [==============================] - 16s 5ms/step - loss: 0.0390 - accuracy: 0.9865 - val_loss: 0.0554 - val_accuracy: 0.9797\n",
      "Epoch 25/50\n",
      "3554/3554 [==============================] - 18s 5ms/step - loss: 0.0389 - accuracy: 0.9865 - val_loss: 0.0406 - val_accuracy: 0.9838\n",
      "Epoch 26/50\n",
      "3554/3554 [==============================] - 17s 5ms/step - loss: 0.0382 - accuracy: 0.9866 - val_loss: 0.0249 - val_accuracy: 0.9907\n",
      "Epoch 27/50\n",
      "3554/3554 [==============================] - 18s 5ms/step - loss: 0.0375 - accuracy: 0.9867 - val_loss: 0.1078 - val_accuracy: 0.9718\n",
      "Epoch 28/50\n",
      "3554/3554 [==============================] - 17s 5ms/step - loss: 0.0369 - accuracy: 0.9871 - val_loss: 0.0380 - val_accuracy: 0.9861\n",
      "Epoch 29/50\n",
      "3554/3554 [==============================] - 18s 5ms/step - loss: 0.0368 - accuracy: 0.9872 - val_loss: 0.0282 - val_accuracy: 0.9903\n",
      "Epoch 30/50\n",
      "3554/3554 [==============================] - 18s 5ms/step - loss: 0.0363 - accuracy: 0.9874 - val_loss: 0.1033 - val_accuracy: 0.9753\n",
      "Epoch 31/50\n",
      "3554/3554 [==============================] - 16s 5ms/step - loss: 0.0361 - accuracy: 0.9872 - val_loss: 0.0581 - val_accuracy: 0.9785\n",
      "Epoch 32/50\n",
      "3554/3554 [==============================] - 18s 5ms/step - loss: 0.0361 - accuracy: 0.9872 - val_loss: 0.0202 - val_accuracy: 0.9932\n",
      "Epoch 33/50\n",
      "3554/3554 [==============================] - 16s 5ms/step - loss: 0.0355 - accuracy: 0.9875 - val_loss: 0.0348 - val_accuracy: 0.9880\n",
      "Epoch 34/50\n",
      "3554/3554 [==============================] - 17s 5ms/step - loss: 0.0357 - accuracy: 0.9874 - val_loss: 0.0201 - val_accuracy: 0.9936\n",
      "Epoch 35/50\n",
      "3554/3554 [==============================] - 16s 5ms/step - loss: 0.0351 - accuracy: 0.9875 - val_loss: 0.0267 - val_accuracy: 0.9902\n",
      "Epoch 36/50\n",
      "3554/3554 [==============================] - 18s 5ms/step - loss: 0.0349 - accuracy: 0.9877 - val_loss: 0.0396 - val_accuracy: 0.9869\n",
      "Epoch 37/50\n",
      "3554/3554 [==============================] - 17s 5ms/step - loss: 0.0352 - accuracy: 0.9875 - val_loss: 0.0345 - val_accuracy: 0.9859\n",
      "Epoch 38/50\n",
      "3554/3554 [==============================] - 16s 5ms/step - loss: 0.0342 - accuracy: 0.9878 - val_loss: 0.0234 - val_accuracy: 0.9919\n",
      "Epoch 39/50\n",
      "3554/3554 [==============================] - 18s 5ms/step - loss: 0.0334 - accuracy: 0.9883 - val_loss: 0.0274 - val_accuracy: 0.9894\n",
      "Epoch 40/50\n",
      "3554/3554 [==============================] - 17s 5ms/step - loss: 0.0348 - accuracy: 0.9877 - val_loss: 0.0529 - val_accuracy: 0.9799\n",
      "Epoch 41/50\n",
      "3554/3554 [==============================] - 17s 5ms/step - loss: 0.0343 - accuracy: 0.9878 - val_loss: 0.0444 - val_accuracy: 0.9816\n",
      "Epoch 42/50\n",
      "3554/3554 [==============================] - 16s 5ms/step - loss: 0.0341 - accuracy: 0.9879 - val_loss: 0.0362 - val_accuracy: 0.9869\n",
      "Epoch 43/50\n",
      "3554/3554 [==============================] - 17s 5ms/step - loss: 0.0340 - accuracy: 0.9881 - val_loss: 0.0988 - val_accuracy: 0.9728\n",
      "Epoch 44/50\n",
      "3554/3554 [==============================] - 16s 5ms/step - loss: 0.0340 - accuracy: 0.9882 - val_loss: 0.0228 - val_accuracy: 0.9927\n",
      "Epoch 45/50\n",
      "3554/3554 [==============================] - 17s 5ms/step - loss: 0.0338 - accuracy: 0.9881 - val_loss: 0.0201 - val_accuracy: 0.9926\n",
      "Epoch 46/50\n",
      "3554/3554 [==============================] - 17s 5ms/step - loss: 0.0328 - accuracy: 0.9884 - val_loss: 0.0328 - val_accuracy: 0.9893\n",
      "Epoch 47/50\n",
      "3554/3554 [==============================] - 17s 5ms/step - loss: 0.0334 - accuracy: 0.9882 - val_loss: 0.0557 - val_accuracy: 0.9823\n",
      "Epoch 48/50\n",
      "3554/3554 [==============================] - 18s 5ms/step - loss: 0.0332 - accuracy: 0.9886 - val_loss: 0.0324 - val_accuracy: 0.9873\n",
      "Epoch 49/50\n",
      "3554/3554 [==============================] - 18s 5ms/step - loss: 0.0333 - accuracy: 0.9882 - val_loss: 0.0290 - val_accuracy: 0.9884\n",
      "Epoch 50/50\n",
      "3554/3554 [==============================] - 18s 5ms/step - loss: 0.0335 - accuracy: 0.9881 - val_loss: 0.0319 - val_accuracy: 0.9883\n"
     ]
    }
   ],
   "source": [
    "result = model.fit(X_train, y_train, \n",
    "          epochs=50, \n",
    "          batch_size=128, \n",
    "          validation_data=(X_test,y_test),\n",
    "          )"
   ]
  },
  {
   "cell_type": "code",
   "execution_count": 120,
   "metadata": {
    "execution": {
     "iopub.execute_input": "2023-01-30T05:02:01.756573Z",
     "iopub.status.busy": "2023-01-30T05:02:01.756155Z",
     "iopub.status.idle": "2023-01-30T05:02:01.980182Z",
     "shell.execute_reply": "2023-01-30T05:02:01.979185Z",
     "shell.execute_reply.started": "2023-01-30T05:02:01.756535Z"
    }
   },
   "outputs": [
    {
     "data": {
      "text/plain": [
       "<matplotlib.legend.Legend at 0x7fe5eb178090>"
      ]
     },
     "execution_count": 120,
     "metadata": {},
     "output_type": "execute_result"
    },
    {
     "data": {
      "image/png": "[encoded data removed]",
      "text/plain": [
       "<Figure size 432x288 with 1 Axes>"
      ]
     },
     "metadata": {
      "needs_background": "light"
     },
     "output_type": "display_data"
    }
   ],
   "source": [
    "loss_df = pd.DataFrame(model.history.history)\n",
    "plt.plot(loss_df['loss'], label='Training loss')\n",
    "plt.plot(loss_df['val_loss'], label='Validation loss')\n",
    "plt.legend()"
   ]
  },
  {
   "cell_type": "code",
   "execution_count": 121,
   "metadata": {
    "execution": {
     "iopub.execute_input": "2023-01-30T05:02:01.982017Z",
     "iopub.status.busy": "2023-01-30T05:02:01.981290Z",
     "iopub.status.idle": "2023-01-30T05:02:02.188113Z",
     "shell.execute_reply": "2023-01-30T05:02:02.187178Z",
     "shell.execute_reply.started": "2023-01-30T05:02:01.981855Z"
    }
   },
   "outputs": [
    {
     "data": {
      "text/plain": [
       "<matplotlib.legend.Legend at 0x7fe5eb0c6c10>"
      ]
     },
     "execution_count": 121,
     "metadata": {},
     "output_type": "execute_result"
    },
    {
     "data": {
      "image/png": "[encoded data removed]",
      "text/plain": [
       "<Figure size 432x288 with 1 Axes>"
      ]
     },
     "metadata": {
      "needs_background": "light"
     },
     "output_type": "display_data"
    }
   ],
   "source": [
    "plt.plot(loss_df['accuracy'], label='Training accuracy')\n",
    "plt.plot(loss_df['val_accuracy'], label='Validation accuracy')\n",
    "plt.legend()"
   ]
  },
  {
   "cell_type": "code",
   "execution_count": 122,
   "metadata": {
    "execution": {
     "iopub.execute_input": "2023-01-30T05:02:02.190581Z",
     "iopub.status.busy": "2023-01-30T05:02:02.190314Z",
     "iopub.status.idle": "2023-01-30T05:02:05.918249Z",
     "shell.execute_reply": "2023-01-30T05:02:05.915550Z",
     "shell.execute_reply.started": "2023-01-30T05:02:02.190556Z"
    }
   },
   "outputs": [
    {
     "name": "stdout",
     "output_type": "stream",
     "text": [
      "======================================================\n",
      "              precision    recall  f1-score   support\n",
      "\n",
      "           0       1.00      0.98      0.99     56863\n",
      "           1       0.98      1.00      0.99     56863\n",
      "\n",
      "    accuracy                           0.99    113726\n",
      "   macro avg       0.99      0.99      0.99    113726\n",
      "weighted avg       0.99      0.99      0.99    113726\n",
      "\n",
      "======================================================\n",
      "Overall accuracy =  0.988278845646554\n"
     ]
    }
   ],
   "source": [
    "y_pred = model.predict(X_test)\n",
    "y_pred = y_pred.round()\n",
    "performance(y_test,y_pred)"
   ]
  },
  {
   "cell_type": "code",
   "execution_count": null,
   "metadata": {},
   "outputs": [],
   "source": []
  }
 ],
 "metadata": {
  "kernelspec": {
   "display_name": "Python 3 (ipykernel)",
   "language": "python",
   "name": "python3"
  },
  "language_info": {
   "codemirror_mode": {
    "name": "ipython",
    "version": 3
   },
   "file_extension": ".py",
   "mimetype": "text/x-python",
   "name": "python",
   "nbconvert_exporter": "python",
   "pygments_lexer": "ipython3",
   "version": "3.9.6"
  }
 },
 "nbformat": 4,
 "nbformat_minor": 4
}
